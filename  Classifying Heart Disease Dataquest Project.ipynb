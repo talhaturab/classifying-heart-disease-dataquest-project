{
 "cells": [
  {
   "cell_type": "markdown",
   "id": "ee850a88",
   "metadata": {},
   "source": [
    "## Introduction\n",
    "\n",
    "This is a solution to the Project for the Logistic Regression Modeling in Python course on Dataquest!\n",
    "\n",
    "I will be working on the Heart Disease Data Set from the UCI Machine Learning Repository. This dataset comes from the famous Cleveland Clinic Foundation, which recorded information on various patient characteristics, including age and chest pain, to try to classify the presence of heart disease in an individual. This a prime example of how machine learning can help solve problems that have a real impact on people's lives."
   ]
  },
  {
   "cell_type": "code",
   "execution_count": 1,
   "id": "8c53251d",
   "metadata": {},
   "outputs": [],
   "source": [
    "import pandas as pd\n",
    "import numpy as np\n",
    "from sklearn.linear_model import LogisticRegression\n",
    "from sklearn.metrics import confusion_matrix\n",
    "from sklearn.model_selection import train_test_split"
   ]
  },
  {
   "cell_type": "code",
   "execution_count": 2,
   "id": "66585a7d",
   "metadata": {},
   "outputs": [],
   "source": [
    "# Load in the heart disease dataset\n",
    "df = pd.read_csv(\"heart_disease.csv\")"
   ]
  },
  {
   "cell_type": "markdown",
   "id": "79275eb4",
   "metadata": {},
   "source": [
    "## Exploring The Dataset\n"
   ]
  },
  {
   "cell_type": "code",
   "execution_count": 3,
   "id": "d5d4eb39",
   "metadata": {},
   "outputs": [
    {
     "data": {
      "text/plain": [
       "Index(['Unnamed: 0', 'age', 'sex', 'cp', 'trestbps', 'chol', 'fbs', 'restecg',\n",
       "       'thalach', 'exang', 'oldpeak', 'slope', 'ca', 'thal', 'present'],\n",
       "      dtype='object')"
      ]
     },
     "execution_count": 3,
     "metadata": {},
     "output_type": "execute_result"
    }
   ],
   "source": [
    "# Columns in the dataset\n",
    "df.columns"
   ]
  },
  {
   "cell_type": "markdown",
   "id": "65adac0e",
   "metadata": {},
   "source": [
    "The `present` column is binary outcome of interest. 0 encodes the absence of any heart disease, while 1 encodes the presence.\n",
    "\n",
    "Note: the original dataset actually has a multiclass version of the problem, based on heart disease severity. I will be working on a reduced binary case for simplicity."
   ]
  },
  {
   "cell_type": "code",
   "execution_count": 4,
   "id": "9be9fa25",
   "metadata": {},
   "outputs": [
    {
     "data": {
      "text/html": [
       "<div>\n",
       "<style scoped>\n",
       "    .dataframe tbody tr th:only-of-type {\n",
       "        vertical-align: middle;\n",
       "    }\n",
       "\n",
       "    .dataframe tbody tr th {\n",
       "        vertical-align: top;\n",
       "    }\n",
       "\n",
       "    .dataframe thead th {\n",
       "        text-align: right;\n",
       "    }\n",
       "</style>\n",
       "<table border=\"1\" class=\"dataframe\">\n",
       "  <thead>\n",
       "    <tr style=\"text-align: right;\">\n",
       "      <th></th>\n",
       "      <th>Unnamed: 0</th>\n",
       "      <th>age</th>\n",
       "      <th>sex</th>\n",
       "      <th>cp</th>\n",
       "      <th>trestbps</th>\n",
       "      <th>chol</th>\n",
       "      <th>fbs</th>\n",
       "      <th>restecg</th>\n",
       "      <th>thalach</th>\n",
       "      <th>exang</th>\n",
       "      <th>oldpeak</th>\n",
       "      <th>slope</th>\n",
       "      <th>ca</th>\n",
       "      <th>thal</th>\n",
       "      <th>present</th>\n",
       "    </tr>\n",
       "  </thead>\n",
       "  <tbody>\n",
       "    <tr>\n",
       "      <th>0</th>\n",
       "      <td>1</td>\n",
       "      <td>63</td>\n",
       "      <td>1</td>\n",
       "      <td>1</td>\n",
       "      <td>145</td>\n",
       "      <td>233</td>\n",
       "      <td>1</td>\n",
       "      <td>2</td>\n",
       "      <td>150</td>\n",
       "      <td>0</td>\n",
       "      <td>2.3</td>\n",
       "      <td>3</td>\n",
       "      <td>0.0</td>\n",
       "      <td>6.0</td>\n",
       "      <td>0</td>\n",
       "    </tr>\n",
       "    <tr>\n",
       "      <th>1</th>\n",
       "      <td>2</td>\n",
       "      <td>67</td>\n",
       "      <td>1</td>\n",
       "      <td>4</td>\n",
       "      <td>160</td>\n",
       "      <td>286</td>\n",
       "      <td>0</td>\n",
       "      <td>2</td>\n",
       "      <td>108</td>\n",
       "      <td>1</td>\n",
       "      <td>1.5</td>\n",
       "      <td>2</td>\n",
       "      <td>3.0</td>\n",
       "      <td>3.0</td>\n",
       "      <td>1</td>\n",
       "    </tr>\n",
       "    <tr>\n",
       "      <th>2</th>\n",
       "      <td>3</td>\n",
       "      <td>67</td>\n",
       "      <td>1</td>\n",
       "      <td>4</td>\n",
       "      <td>120</td>\n",
       "      <td>229</td>\n",
       "      <td>0</td>\n",
       "      <td>2</td>\n",
       "      <td>129</td>\n",
       "      <td>1</td>\n",
       "      <td>2.6</td>\n",
       "      <td>2</td>\n",
       "      <td>2.0</td>\n",
       "      <td>7.0</td>\n",
       "      <td>1</td>\n",
       "    </tr>\n",
       "    <tr>\n",
       "      <th>3</th>\n",
       "      <td>4</td>\n",
       "      <td>37</td>\n",
       "      <td>1</td>\n",
       "      <td>3</td>\n",
       "      <td>130</td>\n",
       "      <td>250</td>\n",
       "      <td>0</td>\n",
       "      <td>0</td>\n",
       "      <td>187</td>\n",
       "      <td>0</td>\n",
       "      <td>3.5</td>\n",
       "      <td>3</td>\n",
       "      <td>0.0</td>\n",
       "      <td>3.0</td>\n",
       "      <td>0</td>\n",
       "    </tr>\n",
       "    <tr>\n",
       "      <th>4</th>\n",
       "      <td>5</td>\n",
       "      <td>41</td>\n",
       "      <td>0</td>\n",
       "      <td>2</td>\n",
       "      <td>130</td>\n",
       "      <td>204</td>\n",
       "      <td>0</td>\n",
       "      <td>2</td>\n",
       "      <td>172</td>\n",
       "      <td>0</td>\n",
       "      <td>1.4</td>\n",
       "      <td>1</td>\n",
       "      <td>0.0</td>\n",
       "      <td>3.0</td>\n",
       "      <td>0</td>\n",
       "    </tr>\n",
       "  </tbody>\n",
       "</table>\n",
       "</div>"
      ],
      "text/plain": [
       "   Unnamed: 0  age  sex  cp  trestbps  chol  fbs  restecg  thalach  exang  \\\n",
       "0           1   63    1   1       145   233    1        2      150      0   \n",
       "1           2   67    1   4       160   286    0        2      108      1   \n",
       "2           3   67    1   4       120   229    0        2      129      1   \n",
       "3           4   37    1   3       130   250    0        0      187      0   \n",
       "4           5   41    0   2       130   204    0        2      172      0   \n",
       "\n",
       "   oldpeak  slope   ca thal  present  \n",
       "0      2.3      3  0.0  6.0        0  \n",
       "1      1.5      2  3.0  3.0        1  \n",
       "2      2.6      2  2.0  7.0        1  \n",
       "3      3.5      3  0.0  3.0        0  \n",
       "4      1.4      1  0.0  3.0        0  "
      ]
     },
     "execution_count": 4,
     "metadata": {},
     "output_type": "execute_result"
    }
   ],
   "source": [
    "df.head()"
   ]
  },
  {
   "cell_type": "code",
   "execution_count": 5,
   "id": "4d724992",
   "metadata": {
    "scrolled": true
   },
   "outputs": [
    {
     "data": {
      "text/plain": [
       "Unnamed: 0      int64\n",
       "age             int64\n",
       "sex             int64\n",
       "cp              int64\n",
       "trestbps        int64\n",
       "chol            int64\n",
       "fbs             int64\n",
       "restecg         int64\n",
       "thalach         int64\n",
       "exang           int64\n",
       "oldpeak       float64\n",
       "slope           int64\n",
       "ca             object\n",
       "thal           object\n",
       "present         int64\n",
       "dtype: object"
      ]
     },
     "execution_count": 5,
     "metadata": {},
     "output_type": "execute_result"
    }
   ],
   "source": [
    "df.dtypes"
   ]
  },
  {
   "cell_type": "markdown",
   "id": "4a762601",
   "metadata": {},
   "source": [
    "lets convert object type to int and float for `ca` and `thal`"
   ]
  },
  {
   "cell_type": "code",
   "execution_count": 6,
   "id": "631e5823",
   "metadata": {
    "scrolled": true
   },
   "outputs": [
    {
     "name": "stdout",
     "output_type": "stream",
     "text": [
      "0.0    176\n",
      "1.0     65\n",
      "2.0     38\n",
      "3.0     20\n",
      "?        4\n",
      "Name: ca, dtype: int64\n",
      "3.0    166\n",
      "7.0    117\n",
      "6.0     18\n",
      "?        2\n",
      "Name: thal, dtype: int64\n"
     ]
    }
   ],
   "source": [
    "print(df['ca'].value_counts())\n",
    "print(df['thal'].value_counts())"
   ]
  },
  {
   "cell_type": "markdown",
   "id": "ff4795a5",
   "metadata": {},
   "source": [
    "`ca` and `thal` has value ? in it. Since these are only 6 rows lets remove them"
   ]
  },
  {
   "cell_type": "code",
   "execution_count": 7,
   "id": "7a6e2dd0",
   "metadata": {},
   "outputs": [
    {
     "data": {
      "text/plain": [
       "array([ 87, 166, 192, 266, 287, 302])"
      ]
     },
     "execution_count": 7,
     "metadata": {},
     "output_type": "execute_result"
    }
   ],
   "source": [
    "# get the index of rows with ? values\n",
    "inds = df.query('(ca == \"?\") or (thal == \"?\")').index\n",
    "np.array(inds)"
   ]
  },
  {
   "cell_type": "code",
   "execution_count": 8,
   "id": "c2849cce",
   "metadata": {},
   "outputs": [],
   "source": [
    "# drop the rows with ? value\n",
    "df = df.drop(inds)"
   ]
  },
  {
   "cell_type": "code",
   "execution_count": 12,
   "id": "092d5cde",
   "metadata": {},
   "outputs": [],
   "source": [
    "# convert the objects to floats\n",
    "df['ca'] = df['ca'].astype(float)\n",
    "df['thal'] = df['thal'].astype(float)"
   ]
  },
  {
   "cell_type": "code",
   "execution_count": 9,
   "id": "26210788",
   "metadata": {
    "scrolled": true
   },
   "outputs": [
    {
     "data": {
      "image/png": "[encoded data removed]",
      "text/plain": [
       "<Figure size 640x480 with 1 Axes>"
      ]
     },
     "metadata": {},
     "output_type": "display_data"
    }
   ],
   "source": [
    "df.hist(\"present\");"
   ]
  },
  {
   "cell_type": "markdown",
   "id": "bd7cc36d",
   "metadata": {},
   "source": [
    "There's almost an equal number of cases and non-cases in the dataset."
   ]
  },
  {
   "cell_type": "code",
   "execution_count": 20,
   "id": "15ced7ab",
   "metadata": {},
   "outputs": [
    {
     "data": {
      "text/html": [
       "<div>\n",
       "<style scoped>\n",
       "    .dataframe tbody tr th:only-of-type {\n",
       "        vertical-align: middle;\n",
       "    }\n",
       "\n",
       "    .dataframe tbody tr th {\n",
       "        vertical-align: top;\n",
       "    }\n",
       "\n",
       "    .dataframe thead th {\n",
       "        text-align: right;\n",
       "    }\n",
       "</style>\n",
       "<table border=\"1\" class=\"dataframe\">\n",
       "  <thead>\n",
       "    <tr style=\"text-align: right;\">\n",
       "      <th></th>\n",
       "      <th>age</th>\n",
       "      <th>sex</th>\n",
       "      <th>cp</th>\n",
       "      <th>trestbps</th>\n",
       "      <th>chol</th>\n",
       "      <th>fbs</th>\n",
       "      <th>restecg</th>\n",
       "      <th>thalach</th>\n",
       "      <th>exang</th>\n",
       "      <th>oldpeak</th>\n",
       "      <th>slope</th>\n",
       "      <th>ca</th>\n",
       "      <th>thal</th>\n",
       "    </tr>\n",
       "    <tr>\n",
       "      <th>present</th>\n",
       "      <th></th>\n",
       "      <th></th>\n",
       "      <th></th>\n",
       "      <th></th>\n",
       "      <th></th>\n",
       "      <th></th>\n",
       "      <th></th>\n",
       "      <th></th>\n",
       "      <th></th>\n",
       "      <th></th>\n",
       "      <th></th>\n",
       "      <th></th>\n",
       "      <th></th>\n",
       "    </tr>\n",
       "  </thead>\n",
       "  <tbody>\n",
       "    <tr>\n",
       "      <th>0</th>\n",
       "      <td>52.643750</td>\n",
       "      <td>0.556250</td>\n",
       "      <td>2.793750</td>\n",
       "      <td>129.175000</td>\n",
       "      <td>243.493750</td>\n",
       "      <td>0.143750</td>\n",
       "      <td>0.843750</td>\n",
       "      <td>158.581250</td>\n",
       "      <td>0.143750</td>\n",
       "      <td>0.598750</td>\n",
       "      <td>1.412500</td>\n",
       "      <td>0.275000</td>\n",
       "      <td>3.787500</td>\n",
       "    </tr>\n",
       "    <tr>\n",
       "      <th>1</th>\n",
       "      <td>56.759124</td>\n",
       "      <td>0.817518</td>\n",
       "      <td>3.583942</td>\n",
       "      <td>134.635036</td>\n",
       "      <td>251.854015</td>\n",
       "      <td>0.145985</td>\n",
       "      <td>1.175182</td>\n",
       "      <td>139.109489</td>\n",
       "      <td>0.540146</td>\n",
       "      <td>1.589051</td>\n",
       "      <td>1.824818</td>\n",
       "      <td>1.145985</td>\n",
       "      <td>5.832117</td>\n",
       "    </tr>\n",
       "  </tbody>\n",
       "</table>\n",
       "</div>"
      ],
      "text/plain": [
       "               age       sex        cp    trestbps        chol       fbs  \\\n",
       "present                                                                    \n",
       "0        52.643750  0.556250  2.793750  129.175000  243.493750  0.143750   \n",
       "1        56.759124  0.817518  3.583942  134.635036  251.854015  0.145985   \n",
       "\n",
       "          restecg     thalach     exang   oldpeak     slope        ca  \\\n",
       "present                                                                 \n",
       "0        0.843750  158.581250  0.143750  0.598750  1.412500  0.275000   \n",
       "1        1.175182  139.109489  0.540146  1.589051  1.824818  1.145985   \n",
       "\n",
       "             thal  \n",
       "present            \n",
       "0        3.787500  \n",
       "1        5.832117  "
      ]
     },
     "execution_count": 20,
     "metadata": {},
     "output_type": "execute_result"
    }
   ],
   "source": [
    "df.groupby(\"present\").mean().iloc[:,1:]"
   ]
  },
  {
   "cell_type": "markdown",
   "id": "7b0eba2a",
   "metadata": {},
   "source": [
    "Some columns have a small, but noticeable difference when stratified by predictors. Based on the differences and some knowledge about heart disease, these seem like good candidates for predictors:\n",
    "\n",
    "- age\n",
    "- thalach (maximum heart rate achieved)\n",
    "- restecg (resting ECG)\n",
    "- ca (number of vessels colored by fluoroscopy)"
   ]
  },
  {
   "cell_type": "markdown",
   "id": "a4c0e201",
   "metadata": {},
   "source": [
    "## Dividing The Data\n",
    "\n",
    "We'll use a 70-30 split of the dataset for the training and test sets."
   ]
  },
  {
   "cell_type": "code",
   "execution_count": 22,
   "id": "7287179b",
   "metadata": {},
   "outputs": [],
   "source": [
    "X = df[[\"age\", \"thalach\", \"restecg\", \"ca\"]]\n",
    "y = df[\"present\"]\n",
    "\n",
    "# 70% for training set, 30% for test set\n",
    "X_train, X_test, y_train, y_test = train_test_split(X, y, test_size = 0.3, random_state = 1)"
   ]
  },
  {
   "cell_type": "code",
   "execution_count": 23,
   "id": "0043eb5a",
   "metadata": {},
   "outputs": [
    {
     "name": "stdout",
     "output_type": "stream",
     "text": [
      "Y_train:  109\n",
      "Y_train:  98\n",
      "Y_test:  51\n",
      "Y_test:  39\n"
     ]
    }
   ],
   "source": [
    "# Checking for separation in the datasets\n",
    "print(\"Y_train: \", sum(y_train == 0))\n",
    "print(\"Y_train: \", sum(y_train == 1))\n",
    "print(\"Y_test: \", sum(y_test == 0))\n",
    "print(\"Y_test: \", sum(y_test == 1))"
   ]
  },
  {
   "cell_type": "markdown",
   "id": "5ce44d2a",
   "metadata": {},
   "source": [
    "We confirm above that there are both cases and non-cases in both the training and test sets\n",
    "\n"
   ]
  },
  {
   "cell_type": "markdown",
   "id": "92a6d62b",
   "metadata": {},
   "source": [
    "## Build The Model"
   ]
  },
  {
   "cell_type": "code",
   "execution_count": 24,
   "id": "a0783cc3",
   "metadata": {},
   "outputs": [
    {
     "data": {
      "text/plain": [
       "LogisticRegression()"
      ]
     },
     "execution_count": 24,
     "metadata": {},
     "output_type": "execute_result"
    }
   ],
   "source": [
    "model = LogisticRegression()\n",
    "model.fit(X_train, y_train)"
   ]
  },
  {
   "cell_type": "code",
   "execution_count": 25,
   "id": "bc8ef40c",
   "metadata": {},
   "outputs": [
    {
     "name": "stdout",
     "output_type": "stream",
     "text": [
      "Training Accuracy:  0.7681159420289855\n",
      "Training Sensitivity:  0.6632653061224489\n",
      "Training Specificity:  0.8623853211009175\n"
     ]
    }
   ],
   "source": [
    "# Checking the various metrics for the model\n",
    "acc = model.score(X_train, y_train)\n",
    "\n",
    "predictions = model.predict(X_train)\n",
    "tp = sum((predictions == 1) & (y_train == 1))\n",
    "fp = sum((predictions == 1) & (y_train == 0))\n",
    "tn = sum((predictions == 0) & (y_train == 0))\n",
    "fn = sum((predictions == 0) & (y_train == 1))\n",
    "sens = tp / (tp + fn)\n",
    "spec = tn / (tn + fp)\n",
    "\n",
    "print(\"Training Accuracy: \", acc)\n",
    "print(\"Training Sensitivity: \", sens)\n",
    "print(\"Training Specificity: \", spec)"
   ]
  },
  {
   "cell_type": "markdown",
   "id": "fbd5d6c0",
   "metadata": {},
   "source": [
    "Overall the training accuracy was about 76%, the sensitivity was 66%, and the specificity was 86%. Based on these metrics, the model seems to perform better for non-cases.\n",
    "\n"
   ]
  },
  {
   "cell_type": "markdown",
   "id": "1b68d541",
   "metadata": {},
   "source": [
    "## Interpreting The Model Coefficients\n"
   ]
  },
  {
   "cell_type": "code",
   "execution_count": 26,
   "id": "ba605825",
   "metadata": {},
   "outputs": [
    {
     "name": "stdout",
     "output_type": "stream",
     "text": [
      "age : -0.02\n",
      "thalach : -0.04\n",
      "restecg : 0.39\n",
      "ca : 1.18\n"
     ]
    }
   ],
   "source": [
    "coefs = [\"age\", \"thalach\", \"restecg\", \"ca\"]\n",
    "\n",
    "# Checking in terms of log-odds\n",
    "for coef, val  in zip(coefs, model.coef_[0]):\n",
    "    print(coef, \":\", round(val, 2))"
   ]
  },
  {
   "cell_type": "code",
   "execution_count": 27,
   "id": "f59bbc41",
   "metadata": {},
   "outputs": [
    {
     "name": "stdout",
     "output_type": "stream",
     "text": [
      "age : 0.98\n",
      "thalach : 0.96\n",
      "restecg : 1.47\n",
      "ca : 3.25\n"
     ]
    }
   ],
   "source": [
    "# Checking in terms of odds\n",
    "for coef, val  in zip(coefs, model.coef_[0]):\n",
    "    print(coef, \":\", round(np.exp(val), 2))"
   ]
  },
  {
   "cell_type": "markdown",
   "id": "cc956800",
   "metadata": {},
   "source": [
    "Higher age and maximum heart rate (thalach) is associated with lower odds of heart disease holding the other predictors constant, but both of these odds ratios are close to 1.\n",
    "Resting ECG and the number of colored vessels are associated with higher odds of heart disease holding the other predictors constant. These increases seem to be moderate and high, respectively (a 47% increase and 225% (!) increase)."
   ]
  },
  {
   "cell_type": "markdown",
   "id": "befbda72",
   "metadata": {},
   "source": [
    "## Final Model Evaluation\n"
   ]
  },
  {
   "cell_type": "code",
   "execution_count": 28,
   "id": "f0e7cb03",
   "metadata": {},
   "outputs": [
    {
     "name": "stdout",
     "output_type": "stream",
     "text": [
      "Test Accuracy:  0.7555555555555555\n",
      "Test Sensitivity:  0.7948717948717948\n",
      "Test Specificity:  0.7254901960784313\n"
     ]
    }
   ],
   "source": [
    "# Checking the various metrics for the model (test set)\n",
    "acc = model.score(X_test, y_test)\n",
    "\n",
    "predictions = model.predict(X_test)\n",
    "tp = sum((predictions == 1) & (y_test == 1))\n",
    "fp = sum((predictions == 1) & (y_test == 0))\n",
    "tn = sum((predictions == 0) & (y_test == 0))\n",
    "fn = sum((predictions == 0) & (y_test == 1))\n",
    "sens = tp / (tp + fn)\n",
    "spec = tn / (tn + fp)\n",
    "\n",
    "print(\"Test Accuracy: \", acc)\n",
    "print(\"Test Sensitivity: \", sens)\n",
    "print(\"Test Specificity: \", spec)"
   ]
  },
  {
   "cell_type": "markdown",
   "id": "82e82af5",
   "metadata": {},
   "source": [
    "## Drawing Conclusions\n",
    "\n",
    "Test accuracy was 75%, sensitivity was 79%, and specificity was 72%. Compared to the training set, the accuracy didn't change much, while the model fared better with cases and worse with non-cases. This is potentially useful since this application is health-based. We might be more interested in being better at identifying cases than non-cases."
   ]
  },
  {
   "cell_type": "code",
   "execution_count": null,
   "id": "2d014d29",
   "metadata": {},
   "outputs": [],
   "source": []
  }
 ],
 "metadata": {
  "kernelspec": {
   "display_name": "Python 3 (ipykernel)",
   "language": "python",
   "name": "python3"
  },
  "language_info": {
   "codemirror_mode": {
    "name": "ipython",
    "version": 3
   },
   "file_extension": ".py",
   "mimetype": "text/x-python",
   "name": "python",
   "nbconvert_exporter": "python",
   "pygments_lexer": "ipython3",
   "version": "3.9.15"
  }
 },
 "nbformat": 4,
 "nbformat_minor": 5
}
